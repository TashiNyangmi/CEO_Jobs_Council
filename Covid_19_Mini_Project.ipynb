{
  "nbformat": 4,
  "nbformat_minor": 0,
  "metadata": {
    "colab": {
      "name": "Covid-19-Mini-Project.ipynb",
      "provenance": [],
      "collapsed_sections": [],
      "authorship_tag": "ABX9TyMGsZy++VB8u5lAuPDNRBwS",
      "include_colab_link": true
    },
    "kernelspec": {
      "name": "python3",
      "display_name": "Python 3"
    }
  },
  "cells": [
    {
      "cell_type": "markdown",
      "metadata": {
        "id": "view-in-github",
        "colab_type": "text"
      },
      "source": [
        "<a href=\"https://colab.research.google.com/github/TashiNyangmi/CEO_Jobs_Council/blob/master/Covid_19_Mini_Project.ipynb\" target=\"_parent\"><img src=\"https://colab.research.google.com/assets/colab-badge.svg\" alt=\"Open In Colab\"/></a>"
      ]
    },
    {
      "cell_type": "code",
      "metadata": {
        "id": "lqbcIntakfqK"
      },
      "source": [
        "# @author: Tashi T. Gurung\r\n",
        "# @author: Ariana Bhigroog\r\n",
        "# @author: MJ C"
      ],
      "execution_count": null,
      "outputs": []
    },
    {
      "cell_type": "code",
      "metadata": {
        "id": "IH5Hscl_Bygd"
      },
      "source": [
        "import pandas as pd\r\n",
        "import numpy as np\r\n",
        "\r\n",
        "# data visualization\r\n",
        "import matplotlib.pyplot as plt\r\n",
        "import seaborn as sns"
      ],
      "execution_count": null,
      "outputs": []
    },
    {
      "cell_type": "code",
      "metadata": {
        "id": "JZAVeoIyCfzg"
      },
      "source": [
        "df = pd.read_csv('https://raw.githubusercontent.com/nytimes/covid-19-data/master/us-counties.csv', index_col = 'date', parse_dates = True)"
      ],
      "execution_count": null,
      "outputs": []
    },
    {
      "cell_type": "code",
      "metadata": {
        "colab": {
          "base_uri": "https://localhost:8080/",
          "height": 233
        },
        "id": "3bIf3s-bCjSu",
        "outputId": "1fc6806d-51c0-4371-d3e0-9d71525e58e9"
      },
      "source": [
        "df.head()"
      ],
      "execution_count": null,
      "outputs": [
        {
          "output_type": "execute_result",
          "data": {
            "text/html": [
              "<div>\n",
              "<style scoped>\n",
              "    .dataframe tbody tr th:only-of-type {\n",
              "        vertical-align: middle;\n",
              "    }\n",
              "\n",
              "    .dataframe tbody tr th {\n",
              "        vertical-align: top;\n",
              "    }\n",
              "\n",
              "    .dataframe thead th {\n",
              "        text-align: right;\n",
              "    }\n",
              "</style>\n",
              "<table border=\"1\" class=\"dataframe\">\n",
              "  <thead>\n",
              "    <tr style=\"text-align: right;\">\n",
              "      <th></th>\n",
              "      <th>county</th>\n",
              "      <th>state</th>\n",
              "      <th>fips</th>\n",
              "      <th>cases</th>\n",
              "      <th>deaths</th>\n",
              "    </tr>\n",
              "    <tr>\n",
              "      <th>date</th>\n",
              "      <th></th>\n",
              "      <th></th>\n",
              "      <th></th>\n",
              "      <th></th>\n",
              "      <th></th>\n",
              "    </tr>\n",
              "  </thead>\n",
              "  <tbody>\n",
              "    <tr>\n",
              "      <th>2020-01-21</th>\n",
              "      <td>Snohomish</td>\n",
              "      <td>Washington</td>\n",
              "      <td>53061.0</td>\n",
              "      <td>1</td>\n",
              "      <td>0.0</td>\n",
              "    </tr>\n",
              "    <tr>\n",
              "      <th>2020-01-22</th>\n",
              "      <td>Snohomish</td>\n",
              "      <td>Washington</td>\n",
              "      <td>53061.0</td>\n",
              "      <td>1</td>\n",
              "      <td>0.0</td>\n",
              "    </tr>\n",
              "    <tr>\n",
              "      <th>2020-01-23</th>\n",
              "      <td>Snohomish</td>\n",
              "      <td>Washington</td>\n",
              "      <td>53061.0</td>\n",
              "      <td>1</td>\n",
              "      <td>0.0</td>\n",
              "    </tr>\n",
              "    <tr>\n",
              "      <th>2020-01-24</th>\n",
              "      <td>Cook</td>\n",
              "      <td>Illinois</td>\n",
              "      <td>17031.0</td>\n",
              "      <td>1</td>\n",
              "      <td>0.0</td>\n",
              "    </tr>\n",
              "    <tr>\n",
              "      <th>2020-01-24</th>\n",
              "      <td>Snohomish</td>\n",
              "      <td>Washington</td>\n",
              "      <td>53061.0</td>\n",
              "      <td>1</td>\n",
              "      <td>0.0</td>\n",
              "    </tr>\n",
              "  </tbody>\n",
              "</table>\n",
              "</div>"
            ],
            "text/plain": [
              "               county       state     fips  cases  deaths\n",
              "date                                                     \n",
              "2020-01-21  Snohomish  Washington  53061.0      1     0.0\n",
              "2020-01-22  Snohomish  Washington  53061.0      1     0.0\n",
              "2020-01-23  Snohomish  Washington  53061.0      1     0.0\n",
              "2020-01-24       Cook    Illinois  17031.0      1     0.0\n",
              "2020-01-24  Snohomish  Washington  53061.0      1     0.0"
            ]
          },
          "metadata": {
            "tags": []
          },
          "execution_count": 115
        }
      ]
    },
    {
      "cell_type": "markdown",
      "metadata": {
        "id": "Gf-0NkyJDzaY"
      },
      "source": [
        "The County FIPS Code is a 5-digit field containing a unique numeric identification assigned to each county in a given state by the US government."
      ]
    },
    {
      "cell_type": "code",
      "metadata": {
        "colab": {
          "base_uri": "https://localhost:8080/"
        },
        "id": "_Dwt8AyOCxJI",
        "outputId": "b3d74eb6-5a8f-4192-809c-c2dbc3abd920"
      },
      "source": [
        "df.info()"
      ],
      "execution_count": null,
      "outputs": [
        {
          "output_type": "stream",
          "text": [
            "<class 'pandas.core.frame.DataFrame'>\n",
            "DatetimeIndex: 939988 entries, 2020-01-21 to 2021-01-17\n",
            "Data columns (total 5 columns):\n",
            " #   Column  Non-Null Count   Dtype  \n",
            "---  ------  --------------   -----  \n",
            " 0   county  939988 non-null  object \n",
            " 1   state   939988 non-null  object \n",
            " 2   fips    931216 non-null  float64\n",
            " 3   cases   939988 non-null  int64  \n",
            " 4   deaths  919901 non-null  float64\n",
            "dtypes: float64(2), int64(1), object(2)\n",
            "memory usage: 43.0+ MB\n"
          ],
          "name": "stdout"
        }
      ]
    },
    {
      "cell_type": "markdown",
      "metadata": {
        "id": "YKIlZzKKDm9k"
      },
      "source": [
        "Seems like there are some missing values"
      ]
    },
    {
      "cell_type": "code",
      "metadata": {
        "colab": {
          "base_uri": "https://localhost:8080/"
        },
        "id": "VJtzOIMkDlda",
        "outputId": "4a480984-7505-4f93-eb10-37c4f459eeda"
      },
      "source": [
        "df.isna().sum()"
      ],
      "execution_count": null,
      "outputs": [
        {
          "output_type": "execute_result",
          "data": {
            "text/plain": [
              "county        0\n",
              "state         0\n",
              "fips       8772\n",
              "cases         0\n",
              "deaths    20087\n",
              "dtype: int64"
            ]
          },
          "metadata": {
            "tags": []
          },
          "execution_count": 117
        }
      ]
    },
    {
      "cell_type": "code",
      "metadata": {
        "colab": {
          "base_uri": "https://localhost:8080/"
        },
        "id": "m6IKQZMQIexK",
        "outputId": "e83a3d1e-6de5-4ef5-d4d2-0af5eddb2a3d"
      },
      "source": [
        "df['deaths'].value_counts()"
      ],
      "execution_count": null,
      "outputs": [
        {
          "output_type": "execute_result",
          "data": {
            "text/plain": [
              "0.0        240034\n",
              "1.0         91430\n",
              "2.0         56378\n",
              "3.0         39186\n",
              "4.0         31294\n",
              "            ...  \n",
              "3417.0          1\n",
              "23925.0         1\n",
              "2928.0          1\n",
              "3426.0          1\n",
              "3032.0          1\n",
              "Name: deaths, Length: 3647, dtype: int64"
            ]
          },
          "metadata": {
            "tags": []
          },
          "execution_count": 118
        }
      ]
    },
    {
      "cell_type": "code",
      "metadata": {
        "colab": {
          "base_uri": "https://localhost:8080/"
        },
        "id": "kjHdKYuKDppk",
        "outputId": "4e9c4bec-8667-401e-f2c3-bb8011acf6cd"
      },
      "source": [
        "df[df['fips'].isna()]['county'].value_counts()"
      ],
      "execution_count": null,
      "outputs": [
        {
          "output_type": "execute_result",
          "data": {
            "text/plain": [
              "Unknown          7938\n",
              "New York City     323\n",
              "Kansas City       304\n",
              "Joplin            207\n",
              "Name: county, dtype: int64"
            ]
          },
          "metadata": {
            "tags": []
          },
          "execution_count": 119
        }
      ]
    },
    {
      "cell_type": "code",
      "metadata": {
        "colab": {
          "base_uri": "https://localhost:8080/"
        },
        "id": "yVa1caWUEBea",
        "outputId": "ed6597f8-11ce-4187-9349-17605bf1b5de"
      },
      "source": [
        "len(df)"
      ],
      "execution_count": null,
      "outputs": [
        {
          "output_type": "execute_result",
          "data": {
            "text/plain": [
              "939988"
            ]
          },
          "metadata": {
            "tags": []
          },
          "execution_count": 120
        }
      ]
    },
    {
      "cell_type": "markdown",
      "metadata": {
        "id": "-h0SS1VOEOz2"
      },
      "source": [
        "End of Missing Values"
      ]
    },
    {
      "cell_type": "markdown",
      "metadata": {
        "id": "1MfB8zHfJ-N_"
      },
      "source": [
        "Understand the COVID-19 Data in the last 30 days"
      ]
    },
    {
      "cell_type": "code",
      "metadata": {
        "colab": {
          "base_uri": "https://localhost:8080/",
          "height": 233
        },
        "id": "1axmoGm7KBGr",
        "outputId": "49c64b0d-4fa7-4ae1-faec-6c3da7354590"
      },
      "source": [
        "df.head()"
      ],
      "execution_count": null,
      "outputs": [
        {
          "output_type": "execute_result",
          "data": {
            "text/html": [
              "<div>\n",
              "<style scoped>\n",
              "    .dataframe tbody tr th:only-of-type {\n",
              "        vertical-align: middle;\n",
              "    }\n",
              "\n",
              "    .dataframe tbody tr th {\n",
              "        vertical-align: top;\n",
              "    }\n",
              "\n",
              "    .dataframe thead th {\n",
              "        text-align: right;\n",
              "    }\n",
              "</style>\n",
              "<table border=\"1\" class=\"dataframe\">\n",
              "  <thead>\n",
              "    <tr style=\"text-align: right;\">\n",
              "      <th></th>\n",
              "      <th>county</th>\n",
              "      <th>state</th>\n",
              "      <th>fips</th>\n",
              "      <th>cases</th>\n",
              "      <th>deaths</th>\n",
              "    </tr>\n",
              "    <tr>\n",
              "      <th>date</th>\n",
              "      <th></th>\n",
              "      <th></th>\n",
              "      <th></th>\n",
              "      <th></th>\n",
              "      <th></th>\n",
              "    </tr>\n",
              "  </thead>\n",
              "  <tbody>\n",
              "    <tr>\n",
              "      <th>2020-01-21</th>\n",
              "      <td>Snohomish</td>\n",
              "      <td>Washington</td>\n",
              "      <td>53061.0</td>\n",
              "      <td>1</td>\n",
              "      <td>0.0</td>\n",
              "    </tr>\n",
              "    <tr>\n",
              "      <th>2020-01-22</th>\n",
              "      <td>Snohomish</td>\n",
              "      <td>Washington</td>\n",
              "      <td>53061.0</td>\n",
              "      <td>1</td>\n",
              "      <td>0.0</td>\n",
              "    </tr>\n",
              "    <tr>\n",
              "      <th>2020-01-23</th>\n",
              "      <td>Snohomish</td>\n",
              "      <td>Washington</td>\n",
              "      <td>53061.0</td>\n",
              "      <td>1</td>\n",
              "      <td>0.0</td>\n",
              "    </tr>\n",
              "    <tr>\n",
              "      <th>2020-01-24</th>\n",
              "      <td>Cook</td>\n",
              "      <td>Illinois</td>\n",
              "      <td>17031.0</td>\n",
              "      <td>1</td>\n",
              "      <td>0.0</td>\n",
              "    </tr>\n",
              "    <tr>\n",
              "      <th>2020-01-24</th>\n",
              "      <td>Snohomish</td>\n",
              "      <td>Washington</td>\n",
              "      <td>53061.0</td>\n",
              "      <td>1</td>\n",
              "      <td>0.0</td>\n",
              "    </tr>\n",
              "  </tbody>\n",
              "</table>\n",
              "</div>"
            ],
            "text/plain": [
              "               county       state     fips  cases  deaths\n",
              "date                                                     \n",
              "2020-01-21  Snohomish  Washington  53061.0      1     0.0\n",
              "2020-01-22  Snohomish  Washington  53061.0      1     0.0\n",
              "2020-01-23  Snohomish  Washington  53061.0      1     0.0\n",
              "2020-01-24       Cook    Illinois  17031.0      1     0.0\n",
              "2020-01-24  Snohomish  Washington  53061.0      1     0.0"
            ]
          },
          "metadata": {
            "tags": []
          },
          "execution_count": 121
        }
      ]
    },
    {
      "cell_type": "code",
      "metadata": {
        "colab": {
          "base_uri": "https://localhost:8080/"
        },
        "id": "oiqgUl32KQ75",
        "outputId": "dfb604d2-dd04-4504-ab08-631d6ff97079"
      },
      "source": [
        "df['state'].unique()"
      ],
      "execution_count": null,
      "outputs": [
        {
          "output_type": "execute_result",
          "data": {
            "text/plain": [
              "array(['Washington', 'Illinois', 'California', 'Arizona', 'Massachusetts',\n",
              "       'Wisconsin', 'Texas', 'Nebraska', 'Utah', 'Oregon', 'Florida',\n",
              "       'New York', 'Rhode Island', 'Georgia', 'New Hampshire',\n",
              "       'North Carolina', 'New Jersey', 'Colorado', 'Maryland', 'Nevada',\n",
              "       'Tennessee', 'Hawaii', 'Indiana', 'Kentucky', 'Minnesota',\n",
              "       'Oklahoma', 'Pennsylvania', 'South Carolina',\n",
              "       'District of Columbia', 'Kansas', 'Missouri', 'Vermont',\n",
              "       'Virginia', 'Connecticut', 'Iowa', 'Louisiana', 'Ohio', 'Michigan',\n",
              "       'South Dakota', 'Arkansas', 'Delaware', 'Mississippi',\n",
              "       'New Mexico', 'North Dakota', 'Wyoming', 'Alaska', 'Maine',\n",
              "       'Alabama', 'Idaho', 'Montana', 'Puerto Rico', 'Virgin Islands',\n",
              "       'Guam', 'West Virginia', 'Northern Mariana Islands'], dtype=object)"
            ]
          },
          "metadata": {
            "tags": []
          },
          "execution_count": 122
        }
      ]
    },
    {
      "cell_type": "code",
      "metadata": {
        "id": "2qwfuF1EKMMa"
      },
      "source": [
        "bool_mask = df['state'] == 'New York'"
      ],
      "execution_count": null,
      "outputs": []
    },
    {
      "cell_type": "code",
      "metadata": {
        "id": "kIf9UvapHz5g"
      },
      "source": [
        "df_ny = df[bool_mask].copy()"
      ],
      "execution_count": null,
      "outputs": []
    },
    {
      "cell_type": "code",
      "metadata": {
        "colab": {
          "base_uri": "https://localhost:8080/",
          "height": 233
        },
        "id": "2CTZZVZgKWpG",
        "outputId": "e8ddd89f-a4f4-4844-9025-b6e14486534d"
      },
      "source": [
        "df_ny.head()"
      ],
      "execution_count": null,
      "outputs": [
        {
          "output_type": "execute_result",
          "data": {
            "text/html": [
              "<div>\n",
              "<style scoped>\n",
              "    .dataframe tbody tr th:only-of-type {\n",
              "        vertical-align: middle;\n",
              "    }\n",
              "\n",
              "    .dataframe tbody tr th {\n",
              "        vertical-align: top;\n",
              "    }\n",
              "\n",
              "    .dataframe thead th {\n",
              "        text-align: right;\n",
              "    }\n",
              "</style>\n",
              "<table border=\"1\" class=\"dataframe\">\n",
              "  <thead>\n",
              "    <tr style=\"text-align: right;\">\n",
              "      <th></th>\n",
              "      <th>county</th>\n",
              "      <th>state</th>\n",
              "      <th>fips</th>\n",
              "      <th>cases</th>\n",
              "      <th>deaths</th>\n",
              "    </tr>\n",
              "    <tr>\n",
              "      <th>date</th>\n",
              "      <th></th>\n",
              "      <th></th>\n",
              "      <th></th>\n",
              "      <th></th>\n",
              "      <th></th>\n",
              "    </tr>\n",
              "  </thead>\n",
              "  <tbody>\n",
              "    <tr>\n",
              "      <th>2020-03-01</th>\n",
              "      <td>New York City</td>\n",
              "      <td>New York</td>\n",
              "      <td>NaN</td>\n",
              "      <td>1</td>\n",
              "      <td>0.0</td>\n",
              "    </tr>\n",
              "    <tr>\n",
              "      <th>2020-03-02</th>\n",
              "      <td>New York City</td>\n",
              "      <td>New York</td>\n",
              "      <td>NaN</td>\n",
              "      <td>1</td>\n",
              "      <td>0.0</td>\n",
              "    </tr>\n",
              "    <tr>\n",
              "      <th>2020-03-03</th>\n",
              "      <td>New York City</td>\n",
              "      <td>New York</td>\n",
              "      <td>NaN</td>\n",
              "      <td>2</td>\n",
              "      <td>0.0</td>\n",
              "    </tr>\n",
              "    <tr>\n",
              "      <th>2020-03-04</th>\n",
              "      <td>New York City</td>\n",
              "      <td>New York</td>\n",
              "      <td>NaN</td>\n",
              "      <td>2</td>\n",
              "      <td>0.0</td>\n",
              "    </tr>\n",
              "    <tr>\n",
              "      <th>2020-03-04</th>\n",
              "      <td>Westchester</td>\n",
              "      <td>New York</td>\n",
              "      <td>36119.0</td>\n",
              "      <td>9</td>\n",
              "      <td>0.0</td>\n",
              "    </tr>\n",
              "  </tbody>\n",
              "</table>\n",
              "</div>"
            ],
            "text/plain": [
              "                   county     state     fips  cases  deaths\n",
              "date                                                       \n",
              "2020-03-01  New York City  New York      NaN      1     0.0\n",
              "2020-03-02  New York City  New York      NaN      1     0.0\n",
              "2020-03-03  New York City  New York      NaN      2     0.0\n",
              "2020-03-04  New York City  New York      NaN      2     0.0\n",
              "2020-03-04    Westchester  New York  36119.0      9     0.0"
            ]
          },
          "metadata": {
            "tags": []
          },
          "execution_count": 125
        }
      ]
    },
    {
      "cell_type": "code",
      "metadata": {
        "colab": {
          "base_uri": "https://localhost:8080/"
        },
        "id": "-4q49qrQNsi8",
        "outputId": "395542cc-9ed6-426f-942d-0a909d420c5b"
      },
      "source": [
        "df['state'].unique()"
      ],
      "execution_count": null,
      "outputs": [
        {
          "output_type": "execute_result",
          "data": {
            "text/plain": [
              "array(['Washington', 'Illinois', 'California', 'Arizona', 'Massachusetts',\n",
              "       'Wisconsin', 'Texas', 'Nebraska', 'Utah', 'Oregon', 'Florida',\n",
              "       'New York', 'Rhode Island', 'Georgia', 'New Hampshire',\n",
              "       'North Carolina', 'New Jersey', 'Colorado', 'Maryland', 'Nevada',\n",
              "       'Tennessee', 'Hawaii', 'Indiana', 'Kentucky', 'Minnesota',\n",
              "       'Oklahoma', 'Pennsylvania', 'South Carolina',\n",
              "       'District of Columbia', 'Kansas', 'Missouri', 'Vermont',\n",
              "       'Virginia', 'Connecticut', 'Iowa', 'Louisiana', 'Ohio', 'Michigan',\n",
              "       'South Dakota', 'Arkansas', 'Delaware', 'Mississippi',\n",
              "       'New Mexico', 'North Dakota', 'Wyoming', 'Alaska', 'Maine',\n",
              "       'Alabama', 'Idaho', 'Montana', 'Puerto Rico', 'Virgin Islands',\n",
              "       'Guam', 'West Virginia', 'Northern Mariana Islands'], dtype=object)"
            ]
          },
          "metadata": {
            "tags": []
          },
          "execution_count": 126
        }
      ]
    },
    {
      "cell_type": "code",
      "metadata": {
        "id": "oyQHtTghNkj3"
      },
      "source": [
        "# visualizing state wise deaths\r\n",
        "# choosing some states randomly\r\n",
        "states = ['New York', 'Washington', 'Arkansas', 'Montana']"
      ],
      "execution_count": null,
      "outputs": []
    },
    {
      "cell_type": "code",
      "metadata": {
        "id": "BBEs57FKN28l"
      },
      "source": [
        "# filter for those states\r\n",
        "bool_mask = (df['state'] == 'New York') | (df['state'] == 'Washington') | (df['state'] == 'Arkansas') | (df['state'] == 'Montana')\r\n",
        "data = df[bool_mask]"
      ],
      "execution_count": null,
      "outputs": []
    },
    {
      "cell_type": "code",
      "metadata": {
        "colab": {
          "base_uri": "https://localhost:8080/",
          "height": 311
        },
        "id": "gMAufAMcQzpb",
        "outputId": "68b1081a-5444-4e1c-bb4f-caca1566aaf7"
      },
      "source": [
        "sns.lineplot(x = data.index, y = data['deaths'], hue = data['state'],err_style= None)\r\n",
        "plt.xticks(rotation = 90);"
      ],
      "execution_count": null,
      "outputs": [
        {
          "output_type": "display_data",
          "data": {
            "image/png": "[encoded data removed]",
            "text/plain": [
              "<Figure size 432x288 with 1 Axes>"
            ]
          },
          "metadata": {
            "tags": [],
            "needs_background": "light"
          }
        }
      ]
    },
    {
      "cell_type": "code",
      "metadata": {
        "colab": {
          "base_uri": "https://localhost:8080/",
          "height": 311
        },
        "id": "6J8yMBAELrs9",
        "outputId": "8ad18005-7bac-4854-b2a5-62d4d6fa6ec8"
      },
      "source": [
        "sns.lineplot(x = data.index, y = data['cases'], hue = data['state'],err_style= None)\r\n",
        "plt.xticks(rotation = 90);"
      ],
      "execution_count": null,
      "outputs": [
        {
          "output_type": "display_data",
          "data": {
            "image/png": "[encoded data removed]",
            "text/plain": [
              "<Figure size 432x288 with 1 Axes>"
            ]
          },
          "metadata": {
            "tags": [],
            "needs_background": "light"
          }
        }
      ]
    },
    {
      "cell_type": "code",
      "metadata": {
        "id": "X9vYiHL4SQ2x"
      },
      "source": [
        "# QUESTION # 3"
      ],
      "execution_count": null,
      "outputs": []
    },
    {
      "cell_type": "code",
      "metadata": {
        "id": "Zj-96UBYTwNw"
      },
      "source": [
        "df = pd.read_csv('https://raw.githubusercontent.com/nytimes/covid-19-data/master/us-counties.csv', index_col = 'date', parse_dates = True)"
      ],
      "execution_count": null,
      "outputs": []
    },
    {
      "cell_type": "code",
      "metadata": {
        "id": "d6TpjE6ITxdH"
      },
      "source": [
        "# filtering for state:NY and county:New York City\r\n",
        "bool_mask = (df['state'] == \"New York\") & (df['county']== 'New York City')\r\n",
        "df_ny = df[bool_mask].copy()\r\n",
        "\r\n",
        "# filter for last 30 days\r\n",
        "df_ny_30 = df_ny.loc['2020-dec-19':].copy()"
      ],
      "execution_count": null,
      "outputs": []
    },
    {
      "cell_type": "code",
      "metadata": {
        "id": "nSQ8fHN3ehOy"
      },
      "source": [
        "# NEEDS MAJOR REFACTORING\r\n",
        "\r\n",
        "# absoulte change\r\n",
        "# for all rows\r\n",
        "df_ny_30['new_cases'] = df_ny_30['cases'] - df_ny_30['cases'].shift(1)\r\n",
        "df_ny_30['new_deaths'] = df_ny_30['deaths'] - df_ny_30['deaths'].shift(1)\r\n",
        "\r\n",
        "# for the first row\r\n",
        "df_ny_30.loc['2020-12-19','new_cases'] = df_ny.loc['2020-12-19','cases'] - df_ny.loc['2020-12-18','cases']\r\n",
        "df_ny_30.loc['2020-12-19','new_deaths'] = df_ny.loc['2020-12-19','deaths'] - df_ny.loc['2020-12-18','deaths']\r\n",
        "\r\n",
        "# -----------------------------------------------# \r\n",
        "# percentage change\r\n",
        "# for all rows\r\n",
        "df_ny_30['percentage_new_cases'] = (df_ny_30['cases'] - df_ny_30['cases'].shift(1) ) / df_ny_30['cases'].shift(1)\r\n",
        "df_ny_30['percentage_new_deaths'] = (df_ny_30['deaths'] - df_ny_30['deaths'].shift(1) ) /df_ny_30['deaths'].shift(1)\r\n",
        "\r\n",
        "# for first row\r\n",
        "df_ny_30.loc['2020-12-19','percentage_new_cases'] = (df_ny.loc['2020-12-19','cases'] - df_ny.loc['2020-12-18','cases']) / df_ny.loc['2020-12-18','cases']\r\n",
        "df_ny_30.loc['2020-12-19','percentage_new_deaths'] = (df_ny.loc['2020-12-19','deaths'] - df_ny.loc['2020-12-18','deaths']) / df_ny.loc['2020-12-18','deaths']\r\n",
        " \r\n",
        "# reformating the percentages columns\r\n",
        "df_ny_30['percentage_new_cases'] = round(df_ny_30['percentage_new_cases'], 6) * 100\r\n",
        "df_ny_30['percentage_new_deaths'] = round(df_ny_30['percentage_new_deaths'], 6) * 100\r\n",
        "df_ny_30.head()"
      ],
      "execution_count": null,
      "outputs": []
    },
    {
      "cell_type": "code",
      "metadata": {
        "colab": {
          "base_uri": "https://localhost:8080/",
          "height": 327
        },
        "id": "0Mp64seDmTSi",
        "outputId": "298a066f-d759-4895-a726-495c79b3d1e4"
      },
      "source": [
        "sns.lineplot(x = df_ny_30.index, y = df_ny_30['new_cases'], err_style= None)\r\n",
        "sns.lineplot(x = df_ny_30.index, y = df_ny_30['new_deaths'],err_style= None)\r\n",
        "plt.xticks(rotation = 90);"
      ],
      "execution_count": null,
      "outputs": [
        {
          "output_type": "display_data",
          "data": {
            "image/png": "[encoded data removed]",
            "text/plain": [
              "<Figure size 432x288 with 1 Axes>"
            ]
          },
          "metadata": {
            "tags": [],
            "needs_background": "light"
          }
        }
      ]
    },
    {
      "cell_type": "code",
      "metadata": {
        "colab": {
          "base_uri": "https://localhost:8080/",
          "height": 327
        },
        "id": "EcxmZHR6ayxW",
        "outputId": "457e792f-fbdf-4a27-b091-70fef6fac2f9"
      },
      "source": [
        "sns.lineplot(x = df_ny_30.index, y = df_ny_30['percentage_new_cases'], err_style= None)\r\n",
        "sns.lineplot(x = df_ny_30.index, y = df_ny_30['percentage_new_deaths'],err_style= None)\r\n",
        "plt.xticks(rotation = 90);"
      ],
      "execution_count": null,
      "outputs": [
        {
          "output_type": "display_data",
          "data": {
            "image/png": "[encoded data removed]",
            "text/plain": [
              "<Figure size 432x288 with 1 Axes>"
            ]
          },
          "metadata": {
            "tags": [],
            "needs_background": "light"
          }
        }
      ]
    },
    {
      "cell_type": "code",
      "metadata": {
        "id": "h24jbMRymLR3"
      },
      "source": [
        ""
      ],
      "execution_count": null,
      "outputs": []
    }
  ]
}
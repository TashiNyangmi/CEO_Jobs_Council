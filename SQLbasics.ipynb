{
  "nbformat": 4,
  "nbformat_minor": 0,
  "metadata": {
    "colab": {
      "name": "SQLbasics.ipynb",
      "provenance": [],
      "collapsed_sections": [],
      "mount_file_id": "1jFoQCFfFmUBeB8Nz8ezW0TW6uutZW19X",
      "authorship_tag": "ABX9TyNhkNKIP5/BnDyE7wN3oMHx",
      "include_colab_link": true
    },
    "kernelspec": {
      "name": "python3",
      "display_name": "Python 3"
    }
  },
  "cells": [
    {
      "cell_type": "markdown",
      "metadata": {
        "id": "view-in-github",
        "colab_type": "text"
      },
      "source": [
        "<a href=\"https://colab.research.google.com/github/TashiNyangmi/CEO_Jobs_Council/blob/master/SQLbasics.ipynb\" target=\"_parent\"><img src=\"https://colab.research.google.com/assets/colab-badge.svg\" alt=\"Open In Colab\"/></a>"
      ]
    },
    {
      "cell_type": "code",
      "metadata": {
        "id": "DdOEEDp0_SpP"
      },
      "source": [
        "import sqlite3"
      ],
      "execution_count": 5,
      "outputs": []
    },
    {
      "cell_type": "code",
      "metadata": {
        "colab": {
          "base_uri": "https://localhost:8080/"
        },
        "id": "0eQCVRxC_WO-",
        "outputId": "b2275636-5fa3-4a25-8f3c-c2a31b46ce9f"
      },
      "source": [
        "try:\r\n",
        "  conn = sqlite3.connect('/content/drive/MyDrive/CUNY Research Data Analytics 1A/data/database.db')\r\n",
        "  cursor = conn.cursor()\r\n",
        "  print('Database Connection and creation is successfully created')\r\n",
        "  cursor.close()\r\n",
        "\r\n",
        "except sqlite3.Error as error:\r\n",
        "  print ('Error in creating Database')\r\n",
        "finally:\r\n",
        "  if(conn) == True:\r\n",
        "    conn.close()\r\n",
        "    print('Sqlite connection is closed')"
      ],
      "execution_count": 10,
      "outputs": [
        {
          "output_type": "stream",
          "text": [
            "Database Connection and creation is successfully created\n"
          ],
          "name": "stdout"
        }
      ]
    },
    {
      "cell_type": "code",
      "metadata": {
        "id": "qE3LgFNPAUL6"
      },
      "source": [
        "# https://docs.python.org/3/tutorial/errors.html\r\n",
        "# 8.7. Defining Clean-up Actions\r\n",
        "# The try statement has another optional clause which is intended to define clean-up actions that must be executed under all circumstances.\r\n",
        "# -----------------\r\n",
        "\r\n",
        "# If a finally clause is present, the finally clause will execute as the last task before the try statement completes. \r\n",
        "# The finally clause runs whether or not the try statement produces an exception. The following points discuss more complex cases when an exception occurs:\r\n",
        "\r\n",
        "# If an exception occurs during execution of the try clause, the exception may be handled by an except clause.\r\n",
        "# If the exception is not handled by an except clause, the exception is re-raised after the finally clause has been executed.\r\n",
        "\r\n",
        "# An exception could occur during execution of an except or else clause. Again, the exception is re-raised after the finally clause has been executed.\r\n",
        "\r\n",
        "# If the try statement reaches a break, continue or return statement, the finally clause will execute just prior to the break, continue or return statement’s execution.\r\n",
        "\r\n",
        "# If a finally clause includes a return statement, the returned value will be the one from the finally clause’s return statement, \r\n",
        "# not the value from the try clause’s return statement."
      ],
      "execution_count": 2,
      "outputs": []
    },
    {
      "cell_type": "code",
      "metadata": {
        "colab": {
          "base_uri": "https://localhost:8080/"
        },
        "id": "BzR_lK6f_r6s",
        "outputId": "b19608f4-c043-48f9-b6d7-dfa6f769a1f7"
      },
      "source": [
        "try:\r\n",
        "  conn = sqlite3.connect('/content/drive/MyDrive/CUNY Research Data Analytics 1A/data/database.db')\r\n",
        "  createtable = '''CREATE TABLE Dept(deptid INTEGER PRIMARY KEY AUTOINCREMENT, deptname TEXT(20) NOT NULL, deptstr INTEGER, Deptprograms TEXT(20));'''\r\n",
        "  cursor = conn.cursor()\r\n",
        "  cursor.execute(createtable)\r\n",
        "  conn.commit()\r\n",
        "  print(\"Database table are created successfully\")\r\n",
        "  cursor.close()\r\n",
        "\r\n",
        "except sqlite3.Error as error:\r\n",
        "  print('Error in creating databse.', error)\r\n",
        "\r\n",
        "finally:\r\n",
        "  if (conn):\r\n",
        "    conn.close()\r\n",
        "    print('Sqlite connection is closed.')\r\n"
      ],
      "execution_count": 7,
      "outputs": [
        {
          "output_type": "stream",
          "text": [
            "Database table are created successfully\n",
            "Sqlite connection is closed.\n"
          ],
          "name": "stdout"
        }
      ]
    }
  ]
}